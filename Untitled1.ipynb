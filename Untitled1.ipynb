{
 "cells": [
  {
   "cell_type": "markdown",
   "metadata": {},
   "source": [
    "# Axial Moment Calculation\n",
    "\n",
    "On this Jupyter notebook we describe how it's computed. \n",
    "\n",
    "First, for case 1 first's wind turbine, the axial's vector direction is given by:\n",
    "$$ u = [-4.203, 0.0, 0.442] / || [-4.203, 0.0, 0.442]||_2 $$\n",
    "and its origin:\n",
    "$$ x_{u1} = [-3.523, 0.0, 67.533] \\text{ m} $$\n",
    "Similarly, the case 1 second's wind turbine:\n",
    "$$ u = [-4.203, 0.0, 0.442] $$\n",
    "$$ x_{u2} = [-3.523+480, 0.0, 67.533] \\text{ m} $$\n",
    "Since we already have Fx, Fy, Fz, Mx, My, Mz (the moments are calculated at the root of the tower, i.e., at [0,0,0] for tower 1, [480,0,0] for tower 2), we can compute the power from this data.\n",
    "\n",
    "First, we must define the axial axis's direction:\n",
    "$$ u = [-4.623357261911355, 0.8152226267293697, 0.4934999999999974] $$\n",
    "and the origin of the axial axis:\n",
    "$$ x_u = [-7.848326906769464, 1.3838717875867192, 68.0007] m $$\n"
   ]
  },
  {
   "cell_type": "code",
   "execution_count": 2,
   "metadata": {},
   "outputs": [
    {
     "data": {
      "text/plain": [
       "-4.203"
      ]
     },
     "execution_count": 2,
     "metadata": {},
     "output_type": "execute_result"
    }
   ],
   "source": [
    "import numpy as np\n",
    "import matplotlib.pyplot as plt\n",
    "from scipy import signal\n",
    "import csv\n",
    "\n",
    "def retrieveTimeHistory(pathname):\n",
    "    with open(pathname) as csvFile:\n",
    "        csvReader = csv.reader(csvFile, delimiter=' ')\n",
    "        results = list(csvReader)\n",
    "    results.pop(0) \n",
    "    time = [] ## 0\n",
    "    fx = [] ## 1\n",
    "    fy = []\n",
    "    fz = []\n",
    "    mx = []\n",
    "    my = []\n",
    "    mz = []\n",
    "    for row in results:\n",
    "        if row != []:\n",
    "            csvRow = row[-1].split(\",\")\n",
    "            time.append( float( csvRow[0] ) )\n",
    "            fx.append( float( csvRow[1] ) )\n",
    "            fy.append( float( csvRow[2] ) )\n",
    "            fz.append( float( csvRow[3] ) )\n",
    "            mx.append( float( csvRow[4] ) )\n",
    "            my.append( float( csvRow[5] ) )\n",
    "            mz.append( float( csvRow[6] ) )\n",
    "    time = np.asarray( time )\n",
    "    fx = np.asarray( fx )\n",
    "    fy = np.asarray( fy )\n",
    "    fz = np.asarray( fz )\n",
    "    mx = np.asarray( mx )\n",
    "    my = np.asarray( my )\n",
    "    mz = np.asarray( mz )\n",
    "\n",
    "    return time, fx, fy, fz, mx, my, mz\n",
    "\n",
    "u = np.array( [-4.203, 0.0, 0.442] )\n",
    "i = np.array( [1.0, 0.0, 0.0] )\n",
    "j = np.array( [0.0, 1.0, 0.0] )\n",
    "k = np.array( [0.0, 0.0, 1.0] )\n",
    "np.dot(u,i)\n"
   ]
  },
  {
   "cell_type": "code",
   "execution_count": null,
   "metadata": {},
   "outputs": [],
   "source": []
  },
  {
   "cell_type": "code",
   "execution_count": null,
   "metadata": {},
   "outputs": [],
   "source": []
  },
  {
   "cell_type": "code",
   "execution_count": null,
   "metadata": {},
   "outputs": [],
   "source": []
  }
 ],
 "metadata": {
  "kernelspec": {
   "display_name": "Python 3",
   "language": "python",
   "name": "python3"
  },
  "language_info": {
   "codemirror_mode": {
    "name": "ipython",
    "version": 3
   },
   "file_extension": ".py",
   "mimetype": "text/x-python",
   "name": "python",
   "nbconvert_exporter": "python",
   "pygments_lexer": "ipython3",
   "version": "3.7.7"
  }
 },
 "nbformat": 4,
 "nbformat_minor": 4
}
