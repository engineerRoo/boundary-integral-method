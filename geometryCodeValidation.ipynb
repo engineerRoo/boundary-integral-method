{
 "cells": [
  {
   "cell_type": "code",
   "execution_count": 1,
   "metadata": {},
   "outputs": [
    {
     "ename": "NameError",
     "evalue": "name 'PlotAirfoil' is not defined",
     "output_type": "error",
     "traceback": [
      "\u001b[0;31m---------------------------------------------------------------------------\u001b[0m",
      "\u001b[0;31mNameError\u001b[0m                                 Traceback (most recent call last)",
      "\u001b[0;32m<ipython-input-1-f01f1558704e>\u001b[0m in \u001b[0;36m<module>\u001b[0;34m\u001b[0m\n\u001b[1;32m      2\u001b[0m \u001b[0mairfoilName\u001b[0m \u001b[0;34m=\u001b[0m \u001b[0;34m\"NACA0006\"\u001b[0m\u001b[0;34m\u001b[0m\u001b[0;34m\u001b[0m\u001b[0m\n\u001b[1;32m      3\u001b[0m \u001b[0;34m\u001b[0m\u001b[0m\n\u001b[0;32m----> 4\u001b[0;31m \u001b[0mPlotAirfoil\u001b[0m\u001b[0;34m(\u001b[0m \u001b[0mN\u001b[0m\u001b[0;34m,\u001b[0m \u001b[0mairfoilName\u001b[0m \u001b[0;34m)\u001b[0m\u001b[0;34m\u001b[0m\u001b[0;34m\u001b[0m\u001b[0m\n\u001b[0m\u001b[1;32m      5\u001b[0m \u001b[0;34m\u001b[0m\u001b[0m\n\u001b[1;32m      6\u001b[0m \u001b[0mfig\u001b[0m\u001b[0;34m,\u001b[0m \u001b[0max\u001b[0m \u001b[0;34m=\u001b[0m \u001b[0mplt\u001b[0m\u001b[0;34m.\u001b[0m\u001b[0msubplots\u001b[0m\u001b[0;34m(\u001b[0m\u001b[0mfigsize\u001b[0m\u001b[0;34m=\u001b[0m\u001b[0;34m(\u001b[0m\u001b[0;36m16\u001b[0m\u001b[0;34m,\u001b[0m \u001b[0;36m8\u001b[0m\u001b[0;34m)\u001b[0m\u001b[0;34m)\u001b[0m\u001b[0;34m\u001b[0m\u001b[0;34m\u001b[0m\u001b[0m\n",
      "\u001b[0;31mNameError\u001b[0m: name 'PlotAirfoil' is not defined"
     ]
    }
   ],
   "source": [
    "N = 32\n",
    "airfoilName = \"NACA0006\"\n",
    "\n",
    "PlotAirfoil( N, airfoilName )\n",
    "\n",
    "fig, ax = plt.subplots(figsize=(16, 8))\n",
    "plt.title( \"Transformation of Global Coordinates to Panel Coordinates\", fontsize=20 )\n",
    "plt.grid(b=True, which='major', linestyle='--', linewidth=.5)\n",
    "plt.grid(b=True, which='minor', linestyle='--', linewidth=.1)\n",
    "plt.minorticks_on()\n",
    "x1 = [5, 4, 2]; y1 = [3, 1, 2]\n",
    "x2 = [0, 0, 5**.5]; y2 = [-5**.5, 0, 0]\n",
    "i = 0\n",
    "for x in x1:\n",
    "    plt.plot( [x1[i], x2[i]], [y1[i], y2[i]], 'k' )\n",
    "    i = i + 1\n",
    "plt.plot( x1, y1, '.', markersize=20 )\n",
    "plt.plot( x2, y2, '*', markersize=20 )\n",
    "plt.plot( [4, 2], [1, 2], 'tab:blue', label=\"Global Coordinates\")\n",
    "plt.plot( [0,5**.5], [0,0], 'tab:orange', label=\"Panel Coordinates\")\n",
    "plt.legend()\n",
    "\n",
    "M = 1024 + 1\n",
    "N = 16 + 1\n",
    "\n",
    "## create geometry\n",
    "c = 1\n",
    "e = 0.5\n",
    "a = c * ( 1 + e ) / 4\n",
    "\n",
    "t = np.linspace( 0, 1, M )\n",
    "X0 = - e * c / 4\n",
    "X = a * np.cos( 2 * pi * t ) + X0\n",
    "Y = a * np.sin( 2 * pi * t )\n",
    "Z = X + 1j*Y\n",
    "Z = Z + c**2/Z/16\n",
    "X = np.real(Z)\n",
    "Y = np.imag(Z)\n",
    "\n",
    "## create B-spline representation\n",
    "# tck = createPeriodicSplines( X[:-1], Y[:-1])\n",
    "tck = createSplines( X, Y )\n",
    "x, y = computeNodeLocations( 8*N, tck )\n",
    "\n",
    "quiverx, quivery = computeNodeLocations( N, tck )\n",
    "rx, ry = computeRadial( N, tck )\n",
    "tx, ty = computeTangent( N, tck )\n",
    "nx, ny = computeNormal( N, tck )\n",
    "normalVector = np.vstack( (nx, ny) )\n",
    "radialVector = np.vstack( (rx, ry) )\n",
    "binormal = computeBinormal( N, tck )\n",
    "\n",
    "## correct normal direction\n",
    "nx = binormal * nx\n",
    "ny = binormal * ny\n",
    "    \n",
    "\n",
    "fig, ax = plt.subplots(figsize=(8, 8))\n",
    "plt.grid(b=True, which='major', linestyle='--', linewidth=.5)\n",
    "plt.grid(b=True, which='minor', linestyle='--', linewidth=.1)\n",
    "plt.minorticks_on()\n",
    "plt.xlabel(xlabel='x', fontsize=16)\n",
    "plt.ylabel(ylabel='y', fontsize=16)\n",
    "D = .75\n",
    "ax.set_xlim([-D, D])\n",
    "ax.set_ylim([-D, D])\n",
    "plt.plot( X, Y, '--*', markersize=10, label=\"Original Points\")\n",
    "plt.plot( x, y, '.', label=\"B-spline Representation\")\n",
    "plt.quiver( quiverx, quivery, nx, ny, width=.005 )\n",
    "plt.quiver( quiverx, quivery, tx, ty, color='b', width=.005 )\n",
    "legend = ax.legend(bbox_to_anchor=(.4, .5), loc='center', shadow=True, fontsize='large')\n",
    "plt.savefig(\"/Users/daniellam/Desktop/waldi.jpg\")\n",
    "\n",
    "\n"
   ]
  },
  {
   "cell_type": "code",
   "execution_count": null,
   "metadata": {},
   "outputs": [],
   "source": []
  }
 ],
 "metadata": {
  "kernelspec": {
   "display_name": "Python 3",
   "language": "python",
   "name": "python3"
  },
  "language_info": {
   "codemirror_mode": {
    "name": "ipython",
    "version": 3
   },
   "file_extension": ".py",
   "mimetype": "text/x-python",
   "name": "python",
   "nbconvert_exporter": "python",
   "pygments_lexer": "ipython3",
   "version": "3.7.7"
  }
 },
 "nbformat": 4,
 "nbformat_minor": 4
}
