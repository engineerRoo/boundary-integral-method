{
 "cells": [
  {
   "cell_type": "code",
   "execution_count": 1,
   "metadata": {},
   "outputs": [],
   "source": [
    "import numpy as np\n",
    "import matplotlib.pyplot as plt\n",
    "from scipy import interpolate\n",
    "pi = np.pi"
   ]
  },
  {
   "cell_type": "markdown",
   "metadata": {},
   "source": [
    "This jupyter notebook is to solve the Laplace problem: \n",
    "\n",
    "<center>$\\nabla^2 \\phi = 0$</center>\n",
    "\n",
    "with the impermeable boundary conditions for the wall:\n",
    "\n",
    "<center>$\\frac{\\partial \\phi}{\\partial n} = 0$</center>\n",
    "\n",
    "The gradient of the Green's function with respect to the normal of the surface is given by:\n",
    "\n",
    "<center>$\\frac{\\partial G}{\\partial n} = \\frac{1}{2 \\pi r} \\frac{ \\textbf{r} \\cdot \\textbf{n} }{ r }$ </center> \n"
   ]
  },
  {
   "cell_type": "code",
   "execution_count": 7,
   "metadata": {},
   "outputs": [],
   "source": [
    "def computeGreenNormal2D( x, y, xj, yj , normalx, normaly ):\n",
    "    rj2 = (x - xj)**2 + (y - yj)**2\n",
    "    dGdr = ( 1 / 2 / pi ) / rj2 \n",
    "    gradrn = normalx * (x - xj) + normaly * (y - yj)\n",
    "    return dGdr * gradrn"
   ]
  },
  {
   "cell_type": "markdown",
   "metadata": {},
   "source": [
    "We solve:\n",
    "\n",
    "<center>$ \\phi(p) + \\int_S [\\phi(q) - \\phi(p)] \\frac{\\partial G}{\\partial n}dS = \\phi_i(p) $ </center>\n",
    "\n",
    "which is discretized into the linear system of equations:\n",
    "\n",
    "<center>$ I \\{\\phi\\} + B \\{ \\phi \\} = A\\{\\phi\\} = \\{\\phi_i\\} $</center>"
   ]
  },
  {
   "cell_type": "code",
   "execution_count": 3,
   "metadata": {},
   "outputs": [],
   "source": [
    "def createPeriodicSplines( X, Y ):\n",
    "    tck, u = interpolate.splprep([X, Y], s=0, per=1)\n",
    "    return tck\n",
    "\n",
    "def computeNodeLocations( N, tck ):\n",
    "    t = np.linspace( 0, 1, N )\n",
    "    x, y = interpolate.splev(t, tck)\n",
    "    return x, y\n",
    "\n",
    "def computeNormParameterizationDerivative( N, tck ):\n",
    "    t = np.linspace( 0, 1, N )\n",
    "    dx_dt, dy_dt = interpolate.splev(t, tck, der=1)\n",
    "    ds_dt = np.sqrt( dx_dt**2 + dy_dt**2 )\n",
    "    return ds_dt\n",
    "\n",
    "def computeNormal( N, tck ):\n",
    "    t = np.linspace( 0, 1, N )\n",
    "    nx, ny = interpolate.splev(t, tck, der=2)\n",
    "    norm = -np.sqrt( nx**2 + ny**2 )\n",
    "    return nx/norm, ny/norm\n",
    "\n",
    "def assembleMatrix( X, Y, N ):\n",
    "    ## compute geometric information\n",
    "    tck = createPeriodicSplines( X, Y )\n",
    "    x, y = computeNodeLocations( N+1, tck )\n",
    "    ds_dt = computeNormParameterizationDerivative( N+1, tck )\n",
    "    nx, ny = computeNormal( N+1, tck )\n",
    "    A = np.identity( N )\n",
    "    dt = 1/ N\n",
    "    for i in range( N ):\n",
    "        for j in range( N ):\n",
    "            if (i != j):\n",
    "                A[i, i] = A[i, i] - computeGreenNormal2D( x[i], y[i], x[j], y[j], nx[i], ny[i] ) * ds_dt[i] * dt\n",
    "                A[i, j] = computeGreenNormal2D( x[i], y[i], x[j], y[j], nx[i], ny[i] ) * ds_dt[i] * dt\n",
    "    return A\n",
    "\n",
    "def assembleSourceTerm( X, N ):\n",
    "    b = np.zeros( N )\n",
    "    for i in range( N ):\n",
    "        b[i] = U * x[i]\n",
    "    return b\n",
    "\n"
   ]
  },
  {
   "cell_type": "markdown",
   "metadata": {},
   "source": [
    "# Flow around a Cylinder\n",
    "\n",
    "For validation purposes we compute numerically the potential for a cylinder:\n",
    "<center>$ \\phi(r, \\theta) = U_0 r ( 1 + (\\frac{R}{r})^2 ) cos(\\theta)$ </center> \n",
    "where R is the radius of the cylinder and $U_0$ the freestream velocity"
   ]
  },
  {
   "cell_type": "code",
   "execution_count": 6,
   "metadata": {},
   "outputs": [
    {
     "name": "stderr",
     "output_type": "stream",
     "text": [
      "/Users/daniellam/opt/anaconda3/lib/python3.7/site-packages/scipy/interpolate/_fitpack_impl.py:227: RuntimeWarning: Setting x[1][65]=x[1][0]\n",
      "  (i, m, i)))\n"
     ]
    },
    {
     "data": {
      "text/plain": [
       "<matplotlib.legend.Legend at 0x7ffa50aec350>"
      ]
     },
     "execution_count": 6,
     "metadata": {},
     "output_type": "execute_result"
    },
    {
     "data": {
      "image/png": "[encoded data removed]",
      "text/plain": [
       "<Figure size 1080x216 with 1 Axes>"
      ]
     },
     "metadata": {
      "needs_background": "light"
     },
     "output_type": "display_data"
    }
   ],
   "source": [
    "## validation of BIM about circle\n",
    "\n",
    "N = 64 \n",
    "U0 = 1 \n",
    "\n",
    "\n",
    "\n",
    "## create geometry\n",
    "R = 1\n",
    "t = np.linspace( 0, 1, N + 1 )\n",
    "dt = t[1] - t[0] \n",
    "\n",
    "a = 1\n",
    "b = 1\n",
    "\n",
    "x = a * R * np.cos( 2 * pi * t )\n",
    "y = b * R * np.sin( 2 * pi * t )\n",
    "\n",
    "\n",
    "## create system of equations\n",
    "A = assembleMatrix( x, y, N )\n",
    "b = assembleSourceTerm( x, N )\n",
    "\n",
    "## solve system of equations\n",
    "phi = np.linalg.solve( A, b )\n",
    "\n",
    "\n",
    "## plot solution\n",
    "theta = np.linspace( 0, 2 * pi, N + 1 )\n",
    "theoreticalSolution = U * r0 * 2 * np.cos( theta )\n",
    "\n",
    "fig, ax = plt.subplots(figsize=(15, 3))\n",
    "plt.grid(b=True, which='major', linestyle='--', linewidth=.5)\n",
    "plt.grid(b=True, which='minor', linestyle='--', linewidth=.1)\n",
    "\n",
    "ax.plot( theta[:] * 360 / 2 / pi, np.concatenate( (phi, [phi[0]])), label=\"Numerical Solution\" )\n",
    "# ax.plot( theta[:] * 360 / 2 / pi, theoreticalSolution[:], '*', label=\"Theoretical Solution\" )\n",
    "theoreticalSolution = U * x + U * r0 * x / (x[:]**2 + y[:]**2)**.5\n",
    "ax.plot( theta[:] * 360 / 2 / pi, theoreticalSolution[:], '*', label=\"Theoretical Solution\" )\n",
    "\n",
    "\n",
    "ax.legend()\n"
   ]
  },
  {
   "cell_type": "markdown",
   "metadata": {},
   "source": [
    "# Flow Around an Elliptical Cylinder\n",
    "WIP (obtain analytical solution first)"
   ]
  },
  {
   "cell_type": "code",
   "execution_count": 16,
   "metadata": {},
   "outputs": [
    {
     "name": "stderr",
     "output_type": "stream",
     "text": [
      "/Users/daniellam/opt/anaconda3/lib/python3.7/site-packages/scipy/interpolate/_fitpack_impl.py:227: RuntimeWarning: Setting x[1][65]=x[1][0]\n",
      "  (i, m, i)))\n"
     ]
    },
    {
     "data": {
      "text/plain": [
       "<matplotlib.legend.Legend at 0x7ffa528adcd0>"
      ]
     },
     "execution_count": 16,
     "metadata": {},
     "output_type": "execute_result"
    },
    {
     "data": {
      "image/png": "[encoded data removed]",
      "text/plain": [
       "<Figure size 1080x216 with 1 Axes>"
      ]
     },
     "metadata": {
      "needs_background": "light"
     },
     "output_type": "display_data"
    }
   ],
   "source": [
    "## validation of BIM about circle\n",
    "\n",
    "N = 64\n",
    "U0 = 1 \n",
    "\n",
    "\n",
    "\n",
    "## create geometry\n",
    "R = 1\n",
    "t = np.linspace( 0, 1, N + 1 )\n",
    "dt = t[1] - t[0] \n",
    "\n",
    "a = 512\n",
    "b = 1\n",
    "\n",
    "x = a * R * np.cos( 2 * pi * t )\n",
    "y = b * R * np.sin( 2 * pi * t )\n",
    "\n",
    "\n",
    "## create system of equations\n",
    "A = assembleMatrix( x, y, N )\n",
    "b = assembleSourceTerm( x, N )\n",
    "\n",
    "## solve system of equations\n",
    "phi = np.linalg.solve( A, b )\n",
    "\n",
    "\n",
    "## plot solution\n",
    "theta = np.linspace( 0, 2 * pi, N + 1 )\n",
    "theoreticalSolution = U * r0 * 2 * np.cos( theta )\n",
    "\n",
    "fig, ax = plt.subplots(figsize=(15, 3))\n",
    "plt.grid(b=True, which='major', linestyle='--', linewidth=.5)\n",
    "plt.grid(b=True, which='minor', linestyle='--', linewidth=.1)\n",
    "\n",
    "ax.plot( theta[:] * 360 / 2 / pi, np.concatenate( (phi, [phi[0]])), label=\"Numerical Solution\" )\n",
    "# ax.plot( theta[:] * 360 / 2 / pi, theoreticalSolution[:], '*', label=\"Theoretical Solution\" )\n",
    "theoreticalSolution = U * x + U * r0 * x / (x[:]**2 + y[:]**2)**.5\n",
    "ax.plot( theta[:] * 360 / 2 / pi, theoreticalSolution[:], '*', label=\"Theoretical Solution\" )\n",
    "\n",
    "\n",
    "ax.legend()\n",
    "\n"
   ]
  },
  {
   "cell_type": "markdown",
   "metadata": {},
   "source": [
    "# Flow about NACA airfoil\n",
    "The formula for the shape of a NACA 00xx foil, with \"xx\" being replaced by the percentage of thickness to chord, is\n",
    "<center>$ y(x) = 0.2969 * x^{1/2} - 0.1260 * x - 0.3516 * x^2 + 0.2843 * x^3 - 0.1015 * x^4$</center>"
   ]
  },
  {
   "cell_type": "code",
   "execution_count": null,
   "metadata": {},
   "outputs": [],
   "source": [
    "N = 512\n",
    "xu = np.linspace(0, 1, N)\n",
    "yu = 0.2969 * xu[:]**.5 - 0.1260 * xu[:] - 0.3516 * xu[:]**2 + 0.2843 * xu[:]**3 - 0.1015 * xu[:]**4\n",
    "yl = - yu\n",
    "\n",
    "\n",
    "y = np.zeros(0)\n",
    "x = np.zeros(0)\n",
    "for i in range(N-1, 0, -1):\n",
    "    y = np.concatenate( (y, [yu[i]]) )\n",
    "    x = np.concatenate( (x, [xu[i]]) )\n",
    "    \n",
    "y = np.concatenate( (y, yl[:]) )\n",
    "x = np.concatenate( (x, xu[:]) )\n",
    "\n",
    "\n",
    "fig, ax = plt.subplots(figsize=(15, 3))\n",
    "plt.grid(b=True, which='major', linestyle='--', linewidth=.5)\n",
    "plt.grid(b=True, which='minor', linestyle='--', linewidth=.1)\n",
    "plt.plot( x, y )\n",
    "\n",
    "N = 512\n",
    "tck = createPeriodicSplines( x, y )\n",
    "x, y = computeNodeLocations( N, tck )\n",
    "\n",
    "plt.plot( x, y )\n",
    "\n",
    "A = assembleMatrix( x, y, N )\n",
    "b = x\n",
    "phi = np.linalg.solve( A, b )\n",
    "plt.plot( x, phi, '*')"
   ]
  },
  {
   "cell_type": "code",
   "execution_count": null,
   "metadata": {},
   "outputs": [],
   "source": [
    "## validation of BIM about circle\n",
    "N = 2**4\n",
    "U = 1\n",
    "\n",
    "r0 = 1\n",
    "\n",
    "t = np.linspace( 0, 1, N + 1 )\n",
    "dt = t[1] - t[0] \n",
    "\n",
    "a = 1\n",
    "\n",
    "x = a * r0 * np.cos( 2 * pi * t )\n",
    "y = r0 * np.sin( 2 * pi * t )\n",
    "\n",
    "\n",
    "\n",
    "firstOrderDifference = createFirstOrderDifferenceMatrix( N )\n",
    "s = computeDistanceBetweenNodes( x, y )\n",
    "ds_dt = np.matmul( firstOrderDifference, s ) / dt\n",
    "ds_dt = np.sqrt(  (np.matmul( firstOrderDifference, x[:-1] ) /2 / dt)**2 + (np.matmul( firstOrderDifference, y[:-1] )/ 2 / dt)**2   )\n",
    "print( \"ds_dt = \" + str(ds_dt[0]) )\n",
    "print( \"2pi*r = \" + str(2 * pi) )\n",
    "\n",
    "\n",
    "normalx = np.cos( 2 * pi * t )\n",
    "normaly = np.sin( 2 * pi * t )\n",
    "\n",
    "theta = np.linspace( 0, 2 * pi, N + 1 )\n",
    "theoreticalSolution = U * r0 * 2 * np.cos( theta )\n",
    "\n",
    "## create linear system of equations\n",
    "A = np.identity( N )\n",
    "b = np.zeros( N )\n",
    "for i in range( N ):\n",
    "    b[i] = U * x[i]\n",
    "    for j in range( N ):\n",
    "        if i != j:\n",
    "            A[i, i] = A[i, i] - GREENNORMAL2D( x[i], y[i], x[j], y[j], normalx[i], normaly[i] ) * ds_dt[i]* dt\n",
    "            A[i, j] = GREENNORMAL2D( x[i], y[i], x[j], y[j], normalx[i], normaly[i] ) * ds_dt[i] * dt\n",
    "\n",
    "phi = np.linalg.solve( A, b )\n",
    "\n",
    "\n",
    "fig, ax = plt.subplots(figsize=(15, 3))\n",
    "plt.grid(b=True, which='major', linestyle='--', linewidth=.5)\n",
    "plt.grid(b=True, which='minor', linestyle='--', linewidth=.1)\n",
    "\n",
    "ax.plot( theta[:] * 360 / 2 / pi, np.concatenate( (phi, [phi[0]])), label=\"Numerical Solution\" )\n",
    "ax.plot( theta[:] * 360 / 2 / pi, theoreticalSolution[:], '*', label=\"Theoretical Solution\" )\n",
    "theoreticalSolution = U * x + U * r0 * x / (x[:]**2 + y[:]**2)**.5\n",
    "# ax.plot( theta[:] * 360 / 2 / pi, theoreticalSolution[:], '*', label=\"Theoretical Solution\" )\n",
    "\n",
    "\n",
    "ax.legend()\n",
    "\n"
   ]
  },
  {
   "cell_type": "markdown",
   "metadata": {},
   "source": [
    "# Future work\n",
    "\n",
    "1. compute pressure and velocity from the potential flow solution.\n",
    "2. go from trapezoidal rule to gaussian quadrature \n",
    "3. include wake modelling and validate the method for flow around a cylinder and elliptical cylinder"
   ]
  }
 ],
 "metadata": {
  "kernelspec": {
   "display_name": "Python 3",
   "language": "python",
   "name": "python3"
  },
  "language_info": {
   "codemirror_mode": {
    "name": "ipython",
    "version": 3
   },
   "file_extension": ".py",
   "mimetype": "text/x-python",
   "name": "python",
   "nbconvert_exporter": "python",
   "pygments_lexer": "ipython3",
   "version": "3.7.7"
  }
 },
 "nbformat": 4,
 "nbformat_minor": 4
}
